{
 "cells": [
  {
   "cell_type": "code",
   "execution_count": 1,
   "metadata": {},
   "outputs": [],
   "source": [
    "#Dialy Coding Problem 2 (April 27)\n",
    "# This problem was asked by Uber.\n",
    "# Given an array of integers, return a new array such that each element at index i of the new array is the product of all \n",
    "#the numbers in the original array except the one at i.\n",
    "# For example, if our input was [1, 2, 3, 4, 5], the expected output would be [120, 60, 40, 30, 24]. \n",
    "#If our input was [3, 2, 1], the expected output would be [2, 3, 6].\n",
    "\n",
    "\n",
    "# Follow-up: what if you can't use division?\n"
   ]
  },
  {
   "cell_type": "code",
   "execution_count": 29,
   "metadata": {},
   "outputs": [],
   "source": [
    "# with division and numpy prod\n",
    "import numpy\n",
    "def lProdDiv(num_list):\n",
    "    arrayTwo = []\n",
    "    for idx, i in list(enumerate(num_list)):\n",
    "        arrayTwo.insert(idx, int(numpy.prod(num_list)/i))\n",
    "    return arrayTwo\n",
    "    "
   ]
  },
  {
   "cell_type": "code",
   "execution_count": 2,
   "metadata": {},
   "outputs": [],
   "source": [
    "#no division/ some different input methodology/ product function by hand -> should try to also use map instead of insert\n",
    "def lProd():\n",
    "    arrayOne = input()\n",
    "    arrayOne = [int(num) for num in arrayOne.split(',')]\n",
    "    \n",
    "    arrayTwo = []\n",
    "    for i in range(0,len(arrayOne)):\n",
    "        t_list = arrayOne.copy()\n",
    "        del t_list[i]\n",
    "        \n",
    "        arrayTwo.insert(i,list_prod(t_list))\n",
    "        \n",
    "    return arrayTwo\n",
    "\n",
    "def list_prod(myList):\n",
    "    result = 1\n",
    "    for x in myList:\n",
    "        result = result*x\n",
    "    return result\n",
    "    "
   ]
  }
 ],
 "metadata": {
  "kernelspec": {
   "display_name": "Python 3",
   "language": "python",
   "name": "python3"
  },
  "language_info": {
   "codemirror_mode": {
    "name": "ipython",
    "version": 3
   },
   "file_extension": ".py",
   "mimetype": "text/x-python",
   "name": "python",
   "nbconvert_exporter": "python",
   "pygments_lexer": "ipython3",
   "version": "3.7.7"
  }
 },
 "nbformat": 4,
 "nbformat_minor": 4
}
